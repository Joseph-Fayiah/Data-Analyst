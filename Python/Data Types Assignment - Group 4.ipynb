{
 "cells": [
  {
   "cell_type": "markdown",
   "id": "b5536201",
   "metadata": {},
   "source": [
    "### Group Members:\n",
    "- Aisha Imran Badmus\n",
    "- Gideon Dodzi Nuvor\n",
    "- Rolanda Azeem\n",
    "- Joseph Fayiah\n",
    "- Joel Akrowey Kaku\n",
    "- Lorrita Ntow"
   ]
  },
  {
   "cell_type": "markdown",
   "id": "1971db0e",
   "metadata": {},
   "source": [
    "### Q1\n",
    "List the basic data types in python and give one example each."
   ]
  },
  {
   "cell_type": "markdown",
   "id": "f8b19694",
   "metadata": {},
   "source": [
    "### Answer:"
   ]
  },
  {
   "cell_type": "markdown",
   "id": "698f45ee",
   "metadata": {},
   "source": [
    "- String  \n",
    " Example: \"Gideon\"\n",
    "\n",
    "- Integer \n",
    " Example: 4\n",
    "\n",
    "- Boolean  \n",
    " Example: True\n",
    "\n",
    "- Float  \n",
    " Example: 3.14"
   ]
  },
  {
   "cell_type": "markdown",
   "id": "4a2be5ba",
   "metadata": {},
   "source": [
    "### Q2\n",
    "Change the variable x = 4539.85 to :\n",
    "\n",
    "(i) a string and assign it to a new variable y,\n",
    "\n",
    "(ii) an integer and assign it to a new variable z\n",
    "\n",
    "Print out the type of y and z."
   ]
  },
  {
   "cell_type": "markdown",
   "id": "9ec00f2e",
   "metadata": {},
   "source": [
    "### Answer:\n"
   ]
  },
  {
   "cell_type": "code",
   "execution_count": 2,
   "id": "4f69aaca",
   "metadata": {},
   "outputs": [
    {
     "name": "stdout",
     "output_type": "stream",
     "text": [
      "<class 'str'>\n",
      "<class 'int'>\n"
     ]
    }
   ],
   "source": [
    "x = 4539.85\n",
    "\n",
    "#converting x to a string with variable y\n",
    "y = str(x)\n",
    "print(type(y))\n",
    "\n",
    "#converting x to a integer with variable z\n",
    "z = int(x)\n",
    "print(type(z))"
   ]
  },
  {
   "cell_type": "markdown",
   "id": "81a1251c",
   "metadata": {},
   "source": [
    "### Q3\n",
    "\n",
    "What data type would you use to store\n",
    "\n",
    "a. The price of car?\n",
    "\n",
    "b. The age of a person\n",
    "\n",
    "c. car plate number: plateNumber = \"AV01-AFP\"?\n",
    "\n",
    "d. The price of fuel\n",
    "\n",
    "e. The number of students in the class\n",
    "\n",
    "f. The weight of a person\n",
    "\n",
    "g. Check whether two figures are equal\n",
    "\n",
    "i. The name of a  school\n",
    "\n",
    "j. The average result of the overall score of a student\n",
    "\n",
    "k. The total number of vote cast\n",
    "\n"
   ]
  },
  {
   "cell_type": "markdown",
   "id": "7dbab0cb",
   "metadata": {},
   "source": [
    "### Answer:"
   ]
  },
  {
   "cell_type": "markdown",
   "id": "5a4bf671",
   "metadata": {},
   "source": [
    "a. Float  \n",
    "b. Integer  \n",
    "c. String  \n",
    "d. Float  \n",
    "e. Integer  \n",
    "f. Float  \n",
    "g. Boolean  \n",
    "i. String  \n",
    "j. Float  \n",
    "k. Integer"
   ]
  },
  {
   "cell_type": "markdown",
   "id": "f0694362",
   "metadata": {},
   "source": [
    "### Q4\n",
    "**Thomas Partey is arguably the best player in the Black Stars. He is a great addition to the team**\n",
    "\n",
    "Split the statement above into **two statement_1** and **statement_2** such that statement_1 will be 'Thomas Partey is arguably the best player in the Black Stars' and statement_2 will be 'He is a great addition to the team'\n",
    "\n",
    "Statement:\n",
    "\n",
    "- **What is the length of statment 1?**\n",
    "-**What is the length of statment 2?**\n",
    "-**Is the length of statement 1 greater than statement 2**"
   ]
  },
  {
   "cell_type": "markdown",
   "id": "4db7fbb4",
   "metadata": {},
   "source": [
    "### Answer:"
   ]
  },
  {
   "cell_type": "code",
   "execution_count": 9,
   "id": "606a2e80",
   "metadata": {},
   "outputs": [
    {
     "name": "stdout",
     "output_type": "stream",
     "text": [
      "60\n",
      "34\n",
      "True\n"
     ]
    }
   ],
   "source": [
    "statement_1 = 'Thomas Partey is arguably the best player in the Black Stars'\n",
    "statement_2 = 'He is a great addition to the team'\n",
    "\n",
    "#Calculating the lengths of each statement\n",
    "length_of_st_1 = len(statement_1)\n",
    "length_of_st_2 = len(statement_2)\n",
    "print(length_of_st_1)\n",
    "print(length_of_st_2)\n",
    "print(length_of_st_1 > length_of_st_2)\n"
   ]
  },
  {
   "cell_type": "markdown",
   "id": "ceb46447",
   "metadata": {},
   "source": [
    "### Q5\n",
    "What values does python use to represent **True** and **False** respectively?"
   ]
  },
  {
   "cell_type": "markdown",
   "id": "94ce6a80",
   "metadata": {},
   "source": [
    "### Answer:"
   ]
  },
  {
   "cell_type": "markdown",
   "id": "2a21c0d0",
   "metadata": {},
   "source": [
    "1 and 0"
   ]
  },
  {
   "cell_type": "markdown",
   "id": "e4cc9b15",
   "metadata": {},
   "source": [
    "### Q6\n",
    "Write a code to evaluate if the following statments are True or False.\n",
    "\n",
    "1. 78 is greater than 46 and less than 30 which is an odd number.\n",
    "\n",
    "2. 8-2 is an even number or 8 is a is an odd number.\n",
    "\n",
    "3. The number of characters in the word 'boostrap' is 7 and that of 'sample' is 6."
   ]
  },
  {
   "cell_type": "markdown",
   "id": "837da7ce",
   "metadata": {},
   "source": [
    "### Answer:"
   ]
  },
  {
   "cell_type": "code",
   "execution_count": 18,
   "id": "92f3f57f",
   "metadata": {},
   "outputs": [
    {
     "name": "stdout",
     "output_type": "stream",
     "text": [
      "The first statement is False\n",
      "The second statement is True\n",
      "The third statement is False\n"
     ]
    }
   ],
   "source": [
    "#first statement\n",
    "first_statement = 78 > 46 & 78 < 30%2 != 0\n",
    "print(\"The first statement is\",first_statement)\n",
    "\n",
    "#second statement \n",
    "second_statement = ((8 - 2) % 2 == 0) | (8 % 2 != 0)\n",
    "print(\"The second statement is\", second_statement)\n",
    "\n",
    "#third statement\n",
    "third_statement = len('boostrap') == 7 & len('sample') == 6\n",
    "print(\"The third statement is\",third_statement)"
   ]
  },
  {
   "cell_type": "markdown",
   "id": "bc13f9fc",
   "metadata": {},
   "source": [
    "### Q7\n",
    "Given the following python code,\n",
    "\n",
    "`word='Hello, How are you?'`\n",
    "\n",
    "Write Python code to return the following\n",
    "\n",
    "- How\n",
    "- How are you\n",
    "- are\n",
    "- ?\n",
    "- Hello, How are you\n",
    "\n",
    "\n",
    " "
   ]
  },
  {
   "cell_type": "markdown",
   "id": "24db7a54",
   "metadata": {},
   "source": [
    "### Answer:"
   ]
  },
  {
   "cell_type": "code",
   "execution_count": 33,
   "id": "8f742df1",
   "metadata": {},
   "outputs": [
    {
     "name": "stdout",
     "output_type": "stream",
     "text": [
      "How\n",
      "How are you\n",
      "are\n",
      "?\n",
      "Hello, How are you\n"
     ]
    }
   ],
   "source": [
    "word='Hello, How are you?'\n",
    "\n",
    "#printing 'How'\n",
    "print(word[7:10])\n",
    "\n",
    "#printing 'How are you'\n",
    "print(word[7:18])\n",
    "\n",
    "#printing 'are'\n",
    "print(word[11:14])\n",
    "\n",
    "#printing '?'\n",
    "print(word[-1])\n",
    "\n",
    "#printing 'Hello, How are you'\n",
    "print(word[0:18])"
   ]
  },
  {
   "cell_type": "markdown",
   "id": "e4167de5",
   "metadata": {},
   "source": [
    "### Q8\n",
    "Given the following python code,\n",
    "\n",
    "`sentence = \"I am very excited\"`\n",
    "\n",
    "Write Python code to return \n",
    "- Convert sentence to upper case\n",
    "- Convert sentence to lower case\n",
    "- Convert sentence to title case\n",
    "- Convert sentence to list of strings\n",
    " "
   ]
  },
  {
   "cell_type": "markdown",
   "id": "586db394",
   "metadata": {},
   "source": [
    "### Answer:"
   ]
  },
  {
   "cell_type": "code",
   "execution_count": 37,
   "id": "525f4546",
   "metadata": {},
   "outputs": [
    {
     "name": "stdout",
     "output_type": "stream",
     "text": [
      "I AM VERY EXCITED\n",
      "i am very excited\n",
      "I Am Very Excited\n",
      "['I', 'am', 'very', 'excited']\n"
     ]
    }
   ],
   "source": [
    "sentence = \"I am very excited\"\n",
    "\n",
    "#converting sentence to upper case\n",
    "upper_case = print(sentence.upper())\n",
    "\n",
    "#converting sentence to lower case\n",
    "lower_case = print(sentence.lower())\n",
    "\n",
    "#converting sentence to title case\n",
    "title_case = print(sentence.title())\n",
    "\n",
    "#converting sentence to a list of strings\n",
    "list_of_strings = print(sentence.split())"
   ]
  },
  {
   "cell_type": "markdown",
   "id": "4faf0134",
   "metadata": {},
   "source": [
    "### Q9\n",
    "`word = 'OneThirtyEight'`\n",
    "\n",
    "Using Python code extract the following from the variable word:\n",
    "- One\n",
    "- Thirty\n",
    "- Eight\n",
    "- OneThirty\n",
    "- ThirtyEight\n",
    "- ONETHIRTYEIGHT"
   ]
  },
  {
   "cell_type": "markdown",
   "id": "209754f8",
   "metadata": {},
   "source": [
    "### Answer:"
   ]
  },
  {
   "cell_type": "code",
   "execution_count": 50,
   "id": "4e201ecf",
   "metadata": {},
   "outputs": [
    {
     "name": "stdout",
     "output_type": "stream",
     "text": [
      "One\n",
      "Thirty\n",
      "Eight\n",
      "OneThirty\n",
      "ThirtyEight\n",
      "ONETHIRTYEIGHT\n"
     ]
    }
   ],
   "source": [
    "word = 'OneThirtyEight'\n",
    "\n",
    "#printing 'One'\n",
    "one = print(word[0:3])\n",
    "\n",
    "#printing 'Thirty'\n",
    "thirty = print(word[3:9])\n",
    "\n",
    "#printing 'Eight'\n",
    "eight = print(word[9:14])\n",
    "\n",
    "#printing 'OneThirty'\n",
    "onethirty = print(word[0:9])\n",
    "\n",
    "#printing 'ThirtyEight'\n",
    "thirtyeight = print(word[3:14])\n",
    "\n",
    "#printing 'ONETHIRTYEIGHT'\n",
    "onethirtyeight = print(word.upper())"
   ]
  },
  {
   "cell_type": "markdown",
   "id": "2a4eea1f",
   "metadata": {},
   "source": [
    "### Q10\n",
    "Turn Ault'Kelly into a string and assign it to a variable  called name."
   ]
  },
  {
   "cell_type": "markdown",
   "id": "ec223bdd",
   "metadata": {},
   "source": [
    "### Answer:"
   ]
  },
  {
   "cell_type": "code",
   "execution_count": 51,
   "id": "aa2f0a08",
   "metadata": {},
   "outputs": [
    {
     "name": "stdout",
     "output_type": "stream",
     "text": [
      "Ault'Kelly\n",
      "<class 'str'>\n"
     ]
    }
   ],
   "source": [
    "name = str(\"Ault'Kelly\")\n",
    "print(name)\n",
    "print(type(name))"
   ]
  },
  {
   "cell_type": "code",
   "execution_count": null,
   "id": "d613098e",
   "metadata": {},
   "outputs": [],
   "source": []
  }
 ],
 "metadata": {
  "kernelspec": {
   "display_name": "Python 3 (ipykernel)",
   "language": "python",
   "name": "python3"
  },
  "language_info": {
   "codemirror_mode": {
    "name": "ipython",
    "version": 3
   },
   "file_extension": ".py",
   "mimetype": "text/x-python",
   "name": "python",
   "nbconvert_exporter": "python",
   "pygments_lexer": "ipython3",
   "version": "3.11.4"
  }
 },
 "nbformat": 4,
 "nbformat_minor": 5
}
